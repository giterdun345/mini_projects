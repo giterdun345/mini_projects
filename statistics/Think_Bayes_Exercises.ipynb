{
 "cells": [
  {
   "cell_type": "code",
   "execution_count": 3,
   "metadata": {},
   "outputs": [],
   "source": [
    "from thinkbayes2 import Pmf"
   ]
  },
  {
   "cell_type": "code",
   "execution_count": 4,
   "metadata": {},
   "outputs": [],
   "source": [
    "# builds a pmf to represent the distribution of outcomes for a six sided dice\n",
    "pmf = Pmf()\n",
    "for x in [1,2,3,4,5,6]:\n",
    "    pmf.Set(x, 1/6.0)"
   ]
  },
  {
   "cell_type": "markdown",
   "metadata": {},
   "source": [
    "Pmf creates an empty Pmf with no values. The Set method sets the probability associated with each value to 1/6."
   ]
  },
  {
   "cell_type": "markdown",
   "metadata": {},
   "source": [
    "pmf = Pmf()\n",
    "\n",
    "for word in word_list:\n",
    "\n",
    "pmf.Incr(word, 1)\n",
    "\n",
    "Incr increases the “probability” associated with each word by 1. If a word\n",
    "is not already in the Pmf, it is added.I put “probability” in quotes because in this example, the probabilities are\n",
    "not normalized; that is, they do not add up to 1. So they are not true probabilities. But in this example the word counts are proportional to the probabilities.\n",
    "So after we count all the words, we can compute probabilities by dividing\n",
    "through by the total number of words. Pmf provides a method, Normalize,\n",
    "that does exactly that:\n",
    "pmf.Normalize()\n"
   ]
  },
  {
   "cell_type": "code",
   "execution_count": 5,
   "metadata": {},
   "outputs": [],
   "source": [
    "# cookie problem\n",
    "pmf = Pmf()\n",
    "pmf.Set('Bowl 1', 0.5)\n",
    "pmf.Set('Bowl 2', 0.5)"
   ]
  },
  {
   "cell_type": "code",
   "execution_count": 6,
   "metadata": {},
   "outputs": [],
   "source": [
    "pmf.Mult('Bowl 1', 0.75)\n",
    "pmf.Mult('Bowl 2', 0.5)\n",
    "# multiplies probability of vanilla from each bowl "
   ]
  },
  {
   "cell_type": "code",
   "execution_count": 7,
   "metadata": {},
   "outputs": [
    {
     "data": {
      "text/plain": [
       "0.625"
      ]
     },
     "execution_count": 7,
     "metadata": {},
     "output_type": "execute_result"
    }
   ],
   "source": [
    "pmf.Normalize()\n",
    "# The result is a distribution that contains the posterior probability\n",
    "# for each hypothesis, which is called (wait now) the posterior distribution"
   ]
  },
  {
   "cell_type": "code",
   "execution_count": 9,
   "metadata": {},
   "outputs": [
    {
     "name": "stdout",
     "output_type": "stream",
     "text": [
      "0.6000000000000001\n"
     ]
    }
   ],
   "source": [
    "# Finally, we can get the posterior probability for Bowl 1:\n",
    "print (pmf.Prob('Bowl 1') )"
   ]
  },
  {
   "cell_type": "code",
   "execution_count": 23,
   "metadata": {},
   "outputs": [
    {
     "name": "stdout",
     "output_type": "stream",
     "text": [
      "After one 6\n",
      "4 0.0\n",
      "6 0.3921568627450981\n",
      "8 0.29411764705882354\n",
      "12 0.19607843137254904\n",
      "20 0.11764705882352944\n",
      "After more rolls\n",
      "4 0.0\n",
      "6 0.0\n",
      "8 0.9158452719690099\n",
      "12 0.08040342579700499\n",
      "20 0.003751302233985067\n"
     ]
    }
   ],
   "source": [
    "# dice problem 4, 6,8,12,20 sided die, probability of a 6\n",
    "\n",
    "from __future__ import print_function, division\n",
    "\n",
    "from thinkbayes2 import Suite\n",
    "\n",
    "\n",
    "class Dice(Suite):\n",
    "    \"\"\"Represents hypotheses about which die was rolled.\"\"\"\n",
    "\n",
    "    def Likelihood(self, data, hypo):\n",
    "        \"\"\"Computes the likelihood of the data under the hypothesis.\n",
    "\n",
    "        hypo: integer number of sides on the die\n",
    "        data: integer die roll\n",
    "        \"\"\"\n",
    "        if hypo < data:\n",
    "            return 0\n",
    "        else:\n",
    "            return 1.0/hypo\n",
    "\n",
    "\n",
    "def main():\n",
    "    suite = Dice([4, 6, 8, 12, 20])\n",
    "# creates a new suite (all of the hypotheses)\n",
    "    suite.Update(6)\n",
    "    print('After one 6')\n",
    "    suite.Print()\n",
    "\n",
    "    for roll in [8,7,7,5,4]:\n",
    "        suite.Update(roll)\n",
    "\n",
    "    print('After more rolls')\n",
    "    suite.Print()\n",
    "\n",
    "\n",
    "if __name__ == '__main__':\n",
    "    main()\n",
    "\n"
   ]
  },
  {
   "cell_type": "code",
   "execution_count": 39,
   "metadata": {},
   "outputs": [],
   "source": [
    "# encode the bag percents\n",
    "mix94 = dict(brown=30,\n",
    "yellow=20,\n",
    "red=20,\n",
    "green=10,\n",
    "orange=10,\n",
    "tan=10)\n",
    "mix96 = dict(blue=24,\n",
    "green=20,\n",
    "orange=16,\n",
    "yellow=14,\n",
    "red=13,\n",
    "brown=13)\n",
    "\n",
    "# encode the hypothesis\n",
    "hypoA = dict(bag1=mix94, bag2=mix96)\n",
    "hypoB = dict(bag1=mix96, bag2=mix94)\n",
    "\n",
    "# I map from the name of the hypothesis to the representation:\n",
    "hypotheses = dict(A=hypoA, B=hypoB)"
   ]
  },
  {
   "cell_type": "code",
   "execution_count": 40,
   "metadata": {},
   "outputs": [],
   "source": [
    "# dice problem 4, 6,8,12,20 sided die, probability of a 6\n",
    "\n",
    "from __future__ import print_function, division\n",
    "\n",
    "from thinkbayes2 import Suite\n",
    "\n",
    "\n",
    "class MnM(Suite):\n",
    "    \"\"\"Represents hypotheses about which die was rolled.\"\"\"\n",
    "\n",
    "    def Likelihood(self, data, hypo):\n",
    "        \"\"\"Computes the likelihood of the data under the hypothesis.\n",
    "        hypo: from 1996 bag\n",
    "        data: mix94, mix 96\n",
    "        \"\"\"\n",
    "        \n",
    "\n",
    "\n",
    "def main():\n",
    "    suite = hypotheses\n",
    "# creates a new suite (all of the hypotheses)\n",
    "    suite.Update()\n",
    "    print('After one 6')\n",
    "    suite.Print()\n",
    "\n",
    "    for roll in [8,7,7,5,4]:\n",
    "        suite.Update(roll)\n",
    "\n",
    "    print('After more rolls')\n",
    "    suite.Print()\n",
    "\n",
    "\n",
    "\n"
   ]
  },
  {
   "cell_type": "code",
   "execution_count": null,
   "metadata": {},
   "outputs": [],
   "source": [
    "  def Likelihood(self, data, hypo):\n",
    "        \"\"\"Computes the likelihood of the data under the hypothesis.\n",
    "        hypo: from 1996 bag\n",
    "        data: mix94, mix 96\n",
    "        \"\"\"\n",
    "        suite = MnM('AB')\n",
    "        "
   ]
  }
 ],
 "metadata": {
  "kernelspec": {
   "display_name": "Python 3",
   "language": "python",
   "name": "python3"
  },
  "language_info": {
   "codemirror_mode": {
    "name": "ipython",
    "version": 3
   },
   "file_extension": ".py",
   "mimetype": "text/x-python",
   "name": "python",
   "nbconvert_exporter": "python",
   "pygments_lexer": "ipython3",
   "version": "3.7.3"
  }
 },
 "nbformat": 4,
 "nbformat_minor": 2
}

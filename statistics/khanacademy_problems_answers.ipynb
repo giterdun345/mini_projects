{
 "cells": [
  {
   "cell_type": "code",
   "execution_count": 1,
   "metadata": {},
   "outputs": [],
   "source": [
    "import numpy as np"
   ]
  },
  {
   "cell_type": "code",
   "execution_count": 2,
   "metadata": {},
   "outputs": [],
   "source": [
    "data = [4, 5, 6, np.nan]\n",
    "mean = 4"
   ]
  },
  {
   "cell_type": "code",
   "execution_count": 3,
   "metadata": {},
   "outputs": [],
   "source": [
    "def missing_value(data, mean):\n",
    "    \"\"\"finds the missing value in the data given the mean\"\"\"\n",
    "    number_of_values = len(data)\n",
    "    # use np.nansum() adds all elements in an array tresating nan's as zeros\n",
    "    return (mean * number_of_values) - np.nansum(data)\n",
    "    "
   ]
  },
  {
   "cell_type": "code",
   "execution_count": 4,
   "metadata": {},
   "outputs": [
    {
     "data": {
      "text/plain": [
       "1.0"
      ]
     },
     "execution_count": 4,
     "metadata": {},
     "output_type": "execute_result"
    }
   ],
   "source": [
    "missing_value(data, mean)"
   ]
  },
  {
   "cell_type": "code",
   "execution_count": 5,
   "metadata": {},
   "outputs": [],
   "source": [
    "def iqr(arr):\n",
    "    \"\"\"Will return the interquartile range given an array of data\"\"\"\n",
    "    # Step 1: split the array into two halfs considering the length of the array\n",
    "    # '//' floor division (rounds down to the nearest whole number)\n",
    "    split = len(arr) // 2\n",
    "    print(\"Length=\", len(arr))\n",
    "    print('split=', split)\n",
    "    # Step 2: take all of the variables to the left of the median \n",
    "    first_half = arr[:split]\n",
    "    print('first_half=', first_half)\n",
    "    # Step 3: take all of the variables to the right of the median considering the length of the array\n",
    "    if len(arr) % 2 == 0:\n",
    "        second_half = arr[split:]\n",
    "       # if the array is even do not add one else add one to split equally\n",
    "    else:\n",
    "        second_half = arr[split + 1:]\n",
    "    print('second_half=', second_half)\n",
    "    # Step 4: calcualte 1st quartile \n",
    "    q1 = np.median(first_half)\n",
    "    print('Q1=', q1)\n",
    "    # calculate 3rd quartile\n",
    "    q3 = np.median(second_half)\n",
    "    print('Q3=', q3)\n",
    "    # Step 5: find the difference and return the interquartile range\n",
    "    return q3 - q1\n",
    "    "
   ]
  },
  {
   "cell_type": "code",
   "execution_count": 6,
   "metadata": {},
   "outputs": [
    {
     "name": "stdout",
     "output_type": "stream",
     "text": [
      "Length= 9\n",
      "split= 4\n",
      "first_half= [0, 1.5, 2.5, 3]\n",
      "second_half= [4, 4, 7, 7.5]\n",
      "Q1= 2.0\n",
      "Q3= 5.5\n"
     ]
    },
    {
     "data": {
      "text/plain": [
       "3.5"
      ]
     },
     "execution_count": 6,
     "metadata": {},
     "output_type": "execute_result"
    }
   ],
   "source": [
    "arr1 = [0,1.5,2.5,3,4,4,4,7,7.5]\n",
    "iqr(arr1)\n"
   ]
  },
  {
   "cell_type": "code",
   "execution_count": 7,
   "metadata": {},
   "outputs": [
    {
     "data": {
      "text/plain": [
       "3.08"
      ]
     },
     "execution_count": 7,
     "metadata": {},
     "output_type": "execute_result"
    }
   ],
   "source": [
    "arr = [6,5,13,8]\n",
    "# round to the nearest hundreth\n",
    "round(np.std(arr, ddof = 0), 2)"
   ]
  },
  {
   "cell_type": "code",
   "execution_count": 8,
   "metadata": {},
   "outputs": [],
   "source": [
    "def variance_mean(arr, target):\n",
    "    \"\"\"Returns the mean and variance rounded to the nearest tenth\n",
    "    given the parameter of sample or population\"\"\"\n",
    "    if target == 'sample':\n",
    "        print('mean =', round(np.mean(arr), 1))\n",
    "        print('variance=', round(np.var(arr, ddof = 1), 1))\n",
    "        return np.mean(arr), np.var(arr)\n",
    "    else:\n",
    "        print('mean =', round(np.mean(arr), 1))\n",
    "        print('variance=', round(np.var(arr, ddof = 0), 1))\n",
    "        return np.mean(arr), np.var(arr)"
   ]
  },
  {
   "cell_type": "code",
   "execution_count": 9,
   "metadata": {},
   "outputs": [
    {
     "name": "stdout",
     "output_type": "stream",
     "text": [
      "mean = 17.2\n",
      "variance= 10.7\n"
     ]
    },
    {
     "data": {
      "text/plain": [
       "(17.25, 10.6875)"
      ]
     },
     "execution_count": 9,
     "metadata": {},
     "output_type": "execute_result"
    }
   ],
   "source": [
    "arr = [22,13,18,16]\n",
    "variance_mean(arr, 'idk')"
   ]
  },
  {
   "cell_type": "code",
   "execution_count": 10,
   "metadata": {},
   "outputs": [],
   "source": [
    "def standard_deviation_mean(arr, target):\n",
    "    \"\"\"Returns the mean and variance rounded to the nearest tenth\n",
    "    given the parameter of sample or population\"\"\"\n",
    "    if target == 'sample':\n",
    "        mean = round(np.mean(arr), 1)\n",
    "        std = round(np.std(arr, ddof = 1), 1)\n",
    "        print('mean =', mean)\n",
    "        print('std=', std)\n",
    "        return mean, std\n",
    "    else:\n",
    "        print('mean =', round(np.mean(arr), 1))\n",
    "        print('std=', round(np.std(arr, ddof = 0), 1))\n",
    "        return np.mean(arr), np.std(arr)"
   ]
  },
  {
   "cell_type": "code",
   "execution_count": 11,
   "metadata": {},
   "outputs": [
    {
     "name": "stdout",
     "output_type": "stream",
     "text": [
      "mean = 10.2\n",
      "std= 4.0\n"
     ]
    },
    {
     "data": {
      "text/plain": [
       "(10.2, 3.9698866482558417)"
      ]
     },
     "execution_count": 11,
     "metadata": {},
     "output_type": "execute_result"
    }
   ],
   "source": [
    "arr = [16,10,5,7,13]\n",
    "standard_deviation_mean(arr, 'pop')"
   ]
  },
  {
   "cell_type": "code",
   "execution_count": 12,
   "metadata": {},
   "outputs": [],
   "source": [
    "import numpy as np"
   ]
  },
  {
   "cell_type": "code",
   "execution_count": 13,
   "metadata": {},
   "outputs": [],
   "source": [
    "arr = [1.2, 1.2, 1.2, 1.2, 1.3, 1.3, 1.3, 1.3, 1.3, 1.4, 1.4, 1.4, 1.5, 1.6, 1.6]"
   ]
  },
  {
   "cell_type": "code",
   "execution_count": 14,
   "metadata": {},
   "outputs": [
    {
     "data": {
      "text/plain": [
       "1.2"
      ]
     },
     "execution_count": 14,
     "metadata": {},
     "output_type": "execute_result"
    }
   ],
   "source": [
    "np.percentile(arr, 1.5)"
   ]
  },
  {
   "cell_type": "code",
   "execution_count": 15,
   "metadata": {},
   "outputs": [
    {
     "data": {
      "text/plain": [
       "-2.5454545454545454"
      ]
     },
     "execution_count": 15,
     "metadata": {},
     "output_type": "execute_result"
    }
   ],
   "source": [
    "# calculating zscores with formula no packages\n",
    "def zscore(mean, std, value):\n",
    "    \"\"\"returns zscore given ints of mean, std and target value\"\"\"\n",
    "    return (value - mean) / std\n",
    "zscore(67,5.5,53)"
   ]
  },
  {
   "cell_type": "code",
   "execution_count": 16,
   "metadata": {},
   "outputs": [],
   "source": [
    "from numpy.random import normal\n",
    "from scipy.stats import norm\n",
    "import matplotlib.pyplot as plt"
   ]
  },
  {
   "cell_type": "code",
   "execution_count": 19,
   "metadata": {},
   "outputs": [],
   "source": [
    "def plot_normal(mean, std, target1, target2 = target1):\n",
    "    \"\"\"plots a normal distribution when given mean and std; \n",
    "    can visualize two targets and the space between\"\"\"\n",
    "    # we want an array of data points to create our graph, \n",
    "    # as long as we maintain the same mean and std values do not matter\n",
    "    data = normal(mean, std, 1000)\n",
    "    # sort the data from smallest to largest because if you don't...\n",
    "    data.sort()\n",
    "    # probability distribution of the data \n",
    "    pdf = norm.pdf(data, mean, std)\n",
    "    # vertical lines dashed to distinguish, mean, target1 and target 2 can change **kwargs\n",
    "    plt.axvline(mean, 0, 1, linestyle = '--', label = 'mean' )\n",
    "    plt.axvline(target1, 0,1, linestyle = '--', color = 'red', label = 'target1')\n",
    "    plt.axvline(target2, 0,1, linestyle = '--', color = 'red', label = 'target2')\n",
    "    plt.legend()\n",
    "    # Always label your visualizations\n",
    "    plt.xlabel('Values in Data')\n",
    "    plt.ylabel('Density')\n",
    "    plt.title('Normal Distribution')\n",
    "    plt.axvspan(target1, target2, ymin=0, ymax=1, alpha=0.5, color='red')\n",
    "    plt.plot(data, pdf) "
   ]
  },
  {
   "cell_type": "code",
   "execution_count": 20,
   "metadata": {},
   "outputs": [],
   "source": [
    "data = [1, 2, 3, 4, 5]"
   ]
  },
  {
   "cell_type": "code",
   "execution_count": 21,
   "metadata": {},
   "outputs": [
    {
     "data": {
      "image/png": "[encoded data removed]",
      "text/plain": [
       "<Figure size 432x288 with 1 Axes>"
      ]
     },
     "metadata": {
      "needs_background": "light"
     },
     "output_type": "display_data"
    }
   ],
   "source": [
    "# you can use one line of code when you are defining multiple variables, may be easier\n",
    "mean, std, target1, target2 =   100, 120, 200, 0\n",
    "plot_normal(mean, std, target1, target2)"
   ]
  },
  {
   "cell_type": "code",
   "execution_count": 51,
   "metadata": {},
   "outputs": [],
   "source": [
    "def above_below(mean, std, target1, proportion):\n",
    "    if proportion == 'higher':\n",
    "        print(round(1 - norm(mean, std).cdf(target1), 4))\n",
    "        return round(1 - norm(mean, std).cdf(target1), 4)\n",
    "    elif proportion == 'lower':\n",
    "        print(round(norm(mean, std).cdf(target1), 4))\n",
    "        return round(norm(mean, std).cdf(target1), 4)\n",
    "    else:\n",
    "        print('higher or lower?')"
   ]
  },
  {
   "cell_type": "code",
   "execution_count": 68,
   "metadata": {},
   "outputs": [
    {
     "name": "stdout",
     "output_type": "stream",
     "text": [
      "0.0409\n"
     ]
    },
    {
     "data": {
      "text/plain": [
       "0.0409"
      ]
     },
     "execution_count": 68,
     "metadata": {},
     "output_type": "execute_result"
    }
   ],
   "source": [
    "mean, std, target1 = 0, 1, -1.74\n",
    "above_below(mean, std, target1, \"lower\")"
   ]
  },
  {
   "cell_type": "code",
   "execution_count": 67,
   "metadata": {},
   "outputs": [
    {
     "name": "stdout",
     "output_type": "stream",
     "text": [
      "0.0082\n",
      "0.0082\n"
     ]
    },
    {
     "data": {
      "text/plain": [
       "0.0164"
      ]
     },
     "execution_count": 67,
     "metadata": {},
     "output_type": "execute_result"
    }
   ],
   "source": [
    "above_below(mean, std, target1 * -1, \"lower\") + above_below(mean, std, target1, \"higher\") "
   ]
  },
  {
   "cell_type": "code",
   "execution_count": 24,
   "metadata": {},
   "outputs": [],
   "source": [
    "def two_points(mean, std, target1, target2):\n",
    "    higher = round(norm(mean, std).cdf(target2), 4)\n",
    "    lower = round(norm(mean, std).cdf(target1), 4)\n",
    "    print(round(higher - lower, 4))"
   ]
  },
  {
   "cell_type": "code",
   "execution_count": 25,
   "metadata": {},
   "outputs": [
    {
     "name": "stdout",
     "output_type": "stream",
     "text": [
      "0.7614\n"
     ]
    }
   ],
   "source": [
    "mean, std, target1, target2 = 0, np.sqrt(162), -15, 15\n",
    "two_points(mean, std, target1, target2)"
   ]
  },
  {
   "cell_type": "code",
   "execution_count": 26,
   "metadata": {},
   "outputs": [
    {
     "name": "stdout",
     "output_type": "stream",
     "text": [
      "77.7198760717778\n"
     ]
    }
   ],
   "source": [
    "mean, std, percent = 80, 9, .4\n",
    "def percentage(mean, std, percent,  minomax):\n",
    "    if minomax == 'max':\n",
    "        print(norm(mean, std).ppf(percent))\n",
    "    else:\n",
    "        print(norm(mean, std).ppf(1 - percent))\n",
    "percentage(mean, std, percent, 'max')"
   ]
  },
  {
   "cell_type": "code",
   "execution_count": 92,
   "metadata": {},
   "outputs": [],
   "source": [
    "sx = 30.8\n",
    "sy = 35\n",
    "xbar = 57.4\n",
    "ybar = 69.9\n",
    "r = 0.99"
   ]
  },
  {
   "cell_type": "code",
   "execution_count": 93,
   "metadata": {},
   "outputs": [
    {
     "name": "stdout",
     "output_type": "stream",
     "text": [
      "yhat =  1.1249999999999998 x + 5.325000000000017\n"
     ]
    },
    {
     "data": {
      "text/plain": [
       "(1.12, 5.33)"
      ]
     },
     "execution_count": 93,
     "metadata": {},
     "output_type": "execute_result"
    }
   ],
   "source": [
    "def equation_line_best_fit(sx, sy, xbar, ybar):\n",
    "    slope = r * (sy/sx)\n",
    "    constant = (slope * xbar)\n",
    "    yintercept = (ybar - constant)\n",
    "    print(\"yhat = \", slope, \"x +\", yintercept)\n",
    "    return round(slope, 2), round(yintercept, 2)\n",
    "equation_line_best_fit(sx, sy, xbar, ybar)"
   ]
  },
  {
   "cell_type": "code",
   "execution_count": 29,
   "metadata": {},
   "outputs": [
    {
     "data": {
      "text/plain": [
       "-0.26315789473684204"
      ]
     },
     "execution_count": 29,
     "metadata": {},
     "output_type": "execute_result"
    }
   ],
   "source": [
    "# expected value \n",
    "# data = [0, 100, 250, 500, 1000]\n",
    "# prob = [0.0625, 0.25, 0.375, 0.25, 0.0625]\n",
    "# data = [0,1,2]\n",
    "# prob = [0.09, 0.42, 0.49]\n",
    "data = [-5, 5]\n",
    "prob = [(20/38), (18/38) ]\n",
    "mean = sum(map(lambda x, y: x * y, data, prob))\n",
    "mean"
   ]
  },
  {
   "cell_type": "code",
   "execution_count": 30,
   "metadata": {},
   "outputs": [
    {
     "data": {
      "text/plain": [
       "(24.93, 4.99)"
      ]
     },
     "execution_count": 30,
     "metadata": {},
     "output_type": "execute_result"
    }
   ],
   "source": [
    "# standard deviation/variance of expected value\n",
    "variance = sum(map(lambda x, z: ((x - mean)**2) * z, data, prob))\n",
    "std= np.sqrt(variance)\n",
    "round(variance, 2), round(std, 2)"
   ]
  },
  {
   "cell_type": "code",
   "execution_count": 31,
   "metadata": {},
   "outputs": [],
   "source": [
    "from scipy.special import comb \n",
    "def binomial_probability(trials, rvv, prob):\n",
    "    print(\"k =\",trials)\n",
    "    print(\"n =\", rvv)\n",
    "    print((prob**rvv))\n",
    "    print((1-prob), \"^\", (trials - rvv))\n",
    "    return comb(trials, rvv) * (prob**rvv) * (1-prob)**(trials - rvv)\n",
    "        "
   ]
  },
  {
   "cell_type": "code",
   "execution_count": 32,
   "metadata": {},
   "outputs": [
    {
     "name": "stdout",
     "output_type": "stream",
     "text": [
      "k = 5\n",
      "n = 5\n",
      "0.03125\n",
      "0.5 ^ 0\n"
     ]
    },
    {
     "data": {
      "text/plain": [
       "0.03125"
      ]
     },
     "execution_count": 32,
     "metadata": {},
     "output_type": "execute_result"
    }
   ],
   "source": [
    "trials, rvv, prob = 5, 5, 0.5\n",
    "binomial_probability(trials, rvv, prob)"
   ]
  },
  {
   "cell_type": "code",
   "execution_count": 33,
   "metadata": {},
   "outputs": [
    {
     "name": "stdout",
     "output_type": "stream",
     "text": [
      "k = 5\n",
      "n = 1\n",
      "0.5\n",
      "0.5 ^ 4\n",
      "k = 5\n",
      "n = 2\n",
      "0.25\n",
      "0.5 ^ 3\n"
     ]
    },
    {
     "data": {
      "text/plain": [
       "0.46875"
      ]
     },
     "execution_count": 33,
     "metadata": {},
     "output_type": "execute_result"
    }
   ],
   "source": [
    "binomial_probability(trials, 1, prob) + binomial_probability(trials, 2, prob)"
   ]
  },
  {
   "cell_type": "code",
   "execution_count": 34,
   "metadata": {},
   "outputs": [
    {
     "name": "stdout",
     "output_type": "stream",
     "text": [
      "k = 4\n",
      "n = 0\n",
      "1.0\n",
      "0.5 ^ 4\n",
      "k = 4\n",
      "n = 1\n",
      "0.5\n",
      "0.5 ^ 3\n",
      "k = 4\n",
      "n = 2\n",
      "0.25\n",
      "0.5 ^ 2\n",
      "k = 4\n",
      "n = 3\n",
      "0.125\n",
      "0.5 ^ 1\n",
      "k = 4\n",
      "n = 4\n",
      "0.0625\n",
      "0.5 ^ 0\n"
     ]
    },
    {
     "data": {
      "text/plain": [
       "2.0"
      ]
     },
     "execution_count": 34,
     "metadata": {},
     "output_type": "execute_result"
    }
   ],
   "source": [
    "# expected value \n",
    "data = [0, 1, 2, 3, 4]\n",
    "trials = 4\n",
    "prob = 0.5\n",
    "prob = [binomial_probability(trials, 0, prob),\n",
    "        binomial_probability(trials, 1, prob), \n",
    "        binomial_probability(trials, 2, prob), \n",
    "        binomial_probability(trials, 3, prob), \n",
    "        binomial_probability(trials, 4, prob)]\n",
    "mean = sum(map(lambda x, y: x * y, data, prob))\n",
    "mean"
   ]
  },
  {
   "cell_type": "code",
   "execution_count": 35,
   "metadata": {},
   "outputs": [],
   "source": [
    "def normal_conditions(n, p):\n",
    "    if n * p >= 10 and (n * (1 - p)) >= 10:\n",
    "        print(\"normal distribution\")\n",
    "        return \"normal distribution\"\n",
    "    else:\n",
    "        if p < 0.40:\n",
    "            print('right skewed')\n",
    "            return 'right'\n",
    "        else:\n",
    "            print('left skewed')\n",
    "            return 'left'\n",
    "        "
   ]
  },
  {
   "cell_type": "code",
   "execution_count": 37,
   "metadata": {},
   "outputs": [],
   "source": [
    "def sample_prob1(truep, n, sample_phat, target):\n",
    "    if normal_conditions(n, truep) == 'normal distribution':\n",
    "        mean_phat = truep\n",
    "        std_phat = np.sqrt((truep * (1 - truep)) / n)\n",
    "        print(\"mean=\", mean_phat,\"std=\", round(std_phat, 2))\n",
    "       # above_below(mean_phat, std_phat, sample_phat, target)\n",
    "      "
   ]
  },
  {
   "cell_type": "code",
   "execution_count": 38,
   "metadata": {},
   "outputs": [
    {
     "name": "stdout",
     "output_type": "stream",
     "text": [
      "normal distribution\n",
      "mean= 0.8 std= 0.05\n"
     ]
    }
   ],
   "source": [
    "sample_prob1(0.8, 75,  0, \"lower\")"
   ]
  },
  {
   "cell_type": "code",
   "execution_count": 39,
   "metadata": {},
   "outputs": [],
   "source": [
    "def sample_prob2(truep, n, target1, target2):\n",
    "    if normal_conditions(n, truep) == 'normal distribution':\n",
    "        mean_phat = truep\n",
    "        std_phat = np.sqrt((truep * (1 - truep)) / n)\n",
    "        print(\"mean=\", mean_phat,\"std=\", round(std_phat, 2))\n",
    "        return  two_points(mean_phat, std_phat, target1, target2)"
   ]
  },
  {
   "cell_type": "code",
   "execution_count": 40,
   "metadata": {},
   "outputs": [
    {
     "name": "stdout",
     "output_type": "stream",
     "text": [
      "normal distribution\n",
      "mean= 0.8 std= 0.02\n",
      "0.4238\n"
     ]
    }
   ],
   "source": [
    "sample_prob2(0.8, 500, 0.79, 0.81) "
   ]
  },
  {
   "cell_type": "code",
   "execution_count": 41,
   "metadata": {},
   "outputs": [],
   "source": [
    "def sample_distribution_probability1(mean, std, n, target, highlow):\n",
    "    muhat = mean\n",
    "    stdhat = std / (np.sqrt(n))\n",
    "    print('std hat', stdhat)\n",
    "    return above_below(muhat, stdhat, target, highlow)\n"
   ]
  },
  {
   "cell_type": "code",
   "execution_count": 42,
   "metadata": {},
   "outputs": [
    {
     "name": "stdout",
     "output_type": "stream",
     "text": [
      "std hat 2.886751345948129\n",
      "0.3645\n"
     ]
    }
   ],
   "source": [
    "sample_distribution_probability1(20, 5, 3, 21, \"higher\")"
   ]
  },
  {
   "cell_type": "code",
   "execution_count": 43,
   "metadata": {},
   "outputs": [
    {
     "name": "stdout",
     "output_type": "stream",
     "text": [
      "0.0544\n"
     ]
    }
   ],
   "source": [
    "above_below(0.30, 0.03742, 0.36, 'higher')\n"
   ]
  },
  {
   "cell_type": "code",
   "execution_count": 44,
   "metadata": {},
   "outputs": [],
   "source": [
    "def sample_distribution_probability2(mean, std, n, target1, target2):\n",
    "    muhat = mean\n",
    "    stdhat = std / (np.sqrt(n))\n",
    "   # print('std hat', stdhat)\n",
    "    return two_points(muhat, stdhat, target1, target2)\n"
   ]
  },
  {
   "cell_type": "code",
   "execution_count": 46,
   "metadata": {},
   "outputs": [
    {
     "name": "stdout",
     "output_type": "stream",
     "text": [
      "0.4238\n"
     ]
    }
   ],
   "source": [
    "two_points(0.8, 0.017889, 0.79, 0.81)"
   ]
  },
  {
   "cell_type": "code",
   "execution_count": 2,
   "metadata": {},
   "outputs": [],
   "source": [
    "import pandas as pd\n",
    "import numpy as np"
   ]
  },
  {
   "cell_type": "code",
   "execution_count": 5,
   "metadata": {},
   "outputs": [],
   "source": [
    "arr = np.arange(0, 1000, dtype = 'int64')\n",
    "df = pd.DataFrame(arr)"
   ]
  },
  {
   "cell_type": "code",
   "execution_count": 8,
   "metadata": {},
   "outputs": [
    {
     "name": "stdout",
     "output_type": "stream",
     "text": [
      "<class 'pandas.core.frame.DataFrame'>\n",
      "RangeIndex: 1000 entries, 0 to 999\n",
      "Data columns (total 1 columns):\n",
      "0    1000 non-null int64\n",
      "dtypes: int64(1)\n",
      "memory usage: 7.9 KB\n"
     ]
    }
   ],
   "source": [
    "df.info()"
   ]
  },
  {
   "cell_type": "code",
   "execution_count": 11,
   "metadata": {},
   "outputs": [
    {
     "data": {
      "text/html": [
       "<div>\n",
       "<style scoped>\n",
       "    .dataframe tbody tr th:only-of-type {\n",
       "        vertical-align: middle;\n",
       "    }\n",
       "\n",
       "    .dataframe tbody tr th {\n",
       "        vertical-align: top;\n",
       "    }\n",
       "\n",
       "    .dataframe thead th {\n",
       "        text-align: right;\n",
       "    }\n",
       "</style>\n",
       "<table border=\"1\" class=\"dataframe\">\n",
       "  <thead>\n",
       "    <tr style=\"text-align: right;\">\n",
       "      <th></th>\n",
       "      <th>0</th>\n",
       "    </tr>\n",
       "  </thead>\n",
       "  <tbody>\n",
       "    <tr>\n",
       "      <th>41</th>\n",
       "      <td>41</td>\n",
       "    </tr>\n",
       "    <tr>\n",
       "      <th>42</th>\n",
       "      <td>42</td>\n",
       "    </tr>\n",
       "    <tr>\n",
       "      <th>43</th>\n",
       "      <td>43</td>\n",
       "    </tr>\n",
       "    <tr>\n",
       "      <th>44</th>\n",
       "      <td>44</td>\n",
       "    </tr>\n",
       "    <tr>\n",
       "      <th>45</th>\n",
       "      <td>45</td>\n",
       "    </tr>\n",
       "    <tr>\n",
       "      <th>46</th>\n",
       "      <td>46</td>\n",
       "    </tr>\n",
       "    <tr>\n",
       "      <th>47</th>\n",
       "      <td>47</td>\n",
       "    </tr>\n",
       "    <tr>\n",
       "      <th>48</th>\n",
       "      <td>48</td>\n",
       "    </tr>\n",
       "    <tr>\n",
       "      <th>49</th>\n",
       "      <td>49</td>\n",
       "    </tr>\n",
       "  </tbody>\n",
       "</table>\n",
       "</div>"
      ],
      "text/plain": [
       "     0\n",
       "41  41\n",
       "42  42\n",
       "43  43\n",
       "44  44\n",
       "45  45\n",
       "46  46\n",
       "47  47\n",
       "48  48\n",
       "49  49"
      ]
     },
     "execution_count": 11,
     "metadata": {},
     "output_type": "execute_result"
    }
   ],
   "source": [
    "df.loc[(df[0] > 40) & (df[0] < 50)]"
   ]
  },
  {
   "cell_type": "code",
   "execution_count": null,
   "metadata": {},
   "outputs": [],
   "source": []
  }
 ],
 "metadata": {
  "kernelspec": {
   "display_name": "Python 3",
   "language": "python",
   "name": "python3"
  },
  "language_info": {
   "codemirror_mode": {
    "name": "ipython",
    "version": 3
   },
   "file_extension": ".py",
   "mimetype": "text/x-python",
   "name": "python",
   "nbconvert_exporter": "python",
   "pygments_lexer": "ipython3",
   "version": "3.7.3"
  }
 },
 "nbformat": 4,
 "nbformat_minor": 2
}

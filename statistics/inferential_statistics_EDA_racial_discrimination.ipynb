{
 "cells": [
  {
   "cell_type": "markdown",
   "metadata": {},
   "source": [
    "# Examining Racial Discrimination in the US Job Market\n",
    "\n",
    "### Background\n",
    "Racial discrimination continues to be pervasive in cultures throughout the world. Researchers examined the level of racial discrimination in the United States labor market by randomly assigning identical résumés to black-sounding or white-sounding names and observing the impact on requests for interviews from employers.\n",
    "\n",
    "### Data\n",
    "In the dataset provided, each row represents a resume. The 'race' column has two values, 'b' and 'w', indicating black-sounding and white-sounding. The column 'call' has two values, 1 and 0, indicating whether the resume received a call from employers or not.\n",
    "\n",
    "Note that the 'b' and 'w' values in race are assigned randomly to the resumes when presented to the employer."
   ]
  },
  {
   "cell_type": "markdown",
   "metadata": {},
   "source": [
    "### Exercises\n",
    "You will perform a statistical analysis to establish whether race has a significant impact on the rate of callbacks for resumes.\n",
    "\n",
    "Answer the following questions **in this notebook below and submit to your Github account**. \n",
    "\n",
    "   1. What test is appropriate for this problem? Does CLT apply?\n",
    "   2. What are the null and alternate hypotheses?\n",
    "   3. Compute confidence interval, and p-value.\n",
    "   4. Write a story describing the statistical significance in the context or the original problem.\n",
    "   5. Does your analysis mean that race/name is the most important factor in callback success? Why or why not? If not, how would you amend your analysis?\n",
    "\n",
    "You can include written notes in notebook cells using Markdown: \n",
    "   - In the control panel at the top, choose Cell > Cell Type > Markdown\n",
    "   - Markdown syntax: http://nestacms.com/docs/creating-content/markdown-cheat-sheet\n",
    "\n",
    "#### Resources\n",
    "+ Experiment information and data source: http://www.povertyactionlab.org/evaluation/discrimination-job-market-united-states\n",
    "+ Scipy statistical methods: http://docs.scipy.org/doc/scipy/reference/stats.html \n",
    "+ Markdown syntax: http://nestacms.com/docs/creating-content/markdown-cheat-sheet\n",
    "+ Formulas for the Bernoulli distribution: https://en.wikipedia.org/wiki/Bernoulli_distribution"
   ]
  },
  {
   "cell_type": "code",
   "execution_count": null,
   "metadata": {},
   "outputs": [],
   "source": [
    "import pandas as pd\n",
    "import numpy as np\n",
    "import seaborn as sns\n",
    "import matplotlib.pyplot as plt\n",
    "from scipy import stats\n",
    "df = pd.read_stata(r'Desktop/EDA_racial_discrimination/data/us_job_market_discrimination.dta')"
   ]
  },
  {
   "cell_type": "code",
   "execution_count": null,
   "metadata": {},
   "outputs": [],
   "source": [
    "df.info()"
   ]
  },
  {
   "cell_type": "code",
   "execution_count": 3,
   "metadata": {},
   "outputs": [],
   "source": [
    "# number of callbacks for black-sounding names\n",
    "b_callbacks = sum(df[df.race == 'b'].call)\n",
    "# 157 callbacks"
   ]
  },
  {
   "cell_type": "code",
   "execution_count": 4,
   "metadata": {},
   "outputs": [],
   "source": [
    "# number of callbacks for white-sounding names\n",
    "w_callbacks = sum(df[df.race == 'w'].call)\n",
    "# 235 callbacks"
   ]
  },
  {
   "cell_type": "code",
   "execution_count": 5,
   "metadata": {},
   "outputs": [
    {
     "data": {
      "text/plain": [
       "392.0"
      ]
     },
     "execution_count": 5,
     "metadata": {},
     "output_type": "execute_result"
    }
   ],
   "source": [
    "# sum to check proportions are accurate \n",
    "sum(df.call)"
   ]
  },
  {
   "cell_type": "code",
   "execution_count": 6,
   "metadata": {},
   "outputs": [],
   "source": [
    "# white series with two columns, race and call backs organized by race\n",
    "df_white = df.call[(df['race'] == 'w')]"
   ]
  },
  {
   "cell_type": "code",
   "execution_count": 7,
   "metadata": {},
   "outputs": [],
   "source": [
    "# black series with two columns, race and call backs organized by race\n",
    "df_black = df.call[(df['race'] == 'b')]"
   ]
  },
  {
   "cell_type": "code",
   "execution_count": 8,
   "metadata": {},
   "outputs": [],
   "source": [
    "white_proportions = df_white.value_counts(normalize = True, dropna = True)\n",
    "# white_proportions =\n",
    "# 0.0    0.903491\n",
    "# 1.0    0.096509"
   ]
  },
  {
   "cell_type": "code",
   "execution_count": 9,
   "metadata": {},
   "outputs": [],
   "source": [
    "black_proportions = df_black.value_counts(normalize = True, dropna = True)\n",
    "# black_proportions = \n",
    "# 0.0    0.935524\n",
    "# 1.0    0.064476"
   ]
  },
  {
   "cell_type": "markdown",
   "metadata": {
    "collapsed": true
   },
   "source": [
    "<div class=\"span5 alert alert-success\">\n",
    "<p>Your answers to Q1 and Q2 here</p>\n",
    "</div>\n",
    "What test is appropriate for this problem? Does CLT apply?\n",
    "\n",
    "Considering the data was random, by assigning the 'w' and 'b' labels randomly, a reasonably large data set exists, 4870 observations, and observations are independent of one another CLT can be applied. Normal distribution can be assumed with 10 successes(callback) and failures(no callback).\n",
    "\n",
    "What are the null and alternate hypotheses?\n",
    "\n",
    "H0: Probability of white callbacks = Probability of black callbacks\n",
    "\n",
    "Ha: Probability of white callbacks > Probability of black callbacks\n",
    "\n",
    "alpha; significance level = 0.05"
   ]
  },
  {
   "cell_type": "markdown",
   "metadata": {
    "collapsed": true
   },
   "source": [
    " Compute confidence interval, and p-value. \n",
    " Try using both the bootstrapping and the frequentist statistical approaches."
   ]
  },
  {
   "cell_type": "code",
   "execution_count": 10,
   "metadata": {},
   "outputs": [],
   "source": [
    "# difference in proportions in terms of call back \n",
    "difference_proportions = white_proportions[1] - black_proportions[1]\n",
    "# difference_proportions = 0.032032854209445585"
   ]
  },
  {
   "cell_type": "code",
   "execution_count": 11,
   "metadata": {},
   "outputs": [],
   "source": [
    "# combined proportions for calculating the standard deviation of probability\n",
    "# of white callbacks - probability of black callbacks\n",
    "combined_proportion = white_proportions[1] + black_proportions[1]\n",
    "# combined_proportion = 0.16098562628336754 [10('w') + 6('b')]"
   ]
  },
  {
   "cell_type": "code",
   "execution_count": 12,
   "metadata": {},
   "outputs": [],
   "source": [
    "# calculate the z-score for comparison\n",
    "white_variance = (combined_proportion * (1 - combined_proportion)) / len(df_white)\n",
    "black_variance = (combined_proportion * (1 - combined_proportion)) / len(df_black)\n",
    "std_difference =  np.sqrt(white_variance + black_variance)\n",
    "z_value = difference_proportions / std_difference\n",
    "# z_value = 3.0412482413926067"
   ]
  },
  {
   "cell_type": "code",
   "execution_count": 13,
   "metadata": {},
   "outputs": [],
   "source": [
    "# p-value = Probability (z_value > 3.04)\n",
    "# z table lookup = .9988\n",
    "p_value = 1 - .9988\n",
    "# p_value = 0.0011999999999999789 or 0.12%"
   ]
  },
  {
   "cell_type": "code",
   "execution_count": 14,
   "metadata": {},
   "outputs": [
    {
     "data": {
      "text/plain": [
       "0.001177997499319794"
      ]
     },
     "execution_count": 14,
     "metadata": {},
     "output_type": "execute_result"
    }
   ],
   "source": [
    "# checking work \n",
    "checking = stats.norm.cdf(z_value)\n",
    "1 - checking\n",
    "# 0.001177997499319794 or 0.12%"
   ]
  },
  {
   "cell_type": "code",
   "execution_count": 15,
   "metadata": {},
   "outputs": [
    {
     "data": {
      "text/plain": [
       "(-0.020644284605246158, 0.020644284605246158)"
      ]
     },
     "execution_count": 15,
     "metadata": {},
     "output_type": "execute_result"
    }
   ],
   "source": [
    "# confidence interval @ 95%\n",
    "lower_limit = std_difference * -1.96\n",
    "upper_limit = std_difference * 1.96\n",
    "lower_limit, upper_limit\n",
    "# (-0.020644284605246158, 0.020644284605246158)"
   ]
  },
  {
   "cell_type": "markdown",
   "metadata": {},
   "source": [
    "<div class=\"span5 alert alert-success\">\n",
    "<p> Your answers to Q4 and Q5 here </p>\n",
    "</div>"
   ]
  },
  {
   "cell_type": "markdown",
   "metadata": {},
   "source": [
    " 4. Write a story describing the statistical significance in the context or the original problem.\n",
    " 5. Does your analysis mean that race/name is the most important factor in callback success? Why or why not? If not, how would you amend your analysis?"
   ]
  },
  {
   "cell_type": "markdown",
   "metadata": {
    "collapsed": true
   },
   "source": [
    "On this test I used a z statistic to check the null hypothesis. After checking to see if the Central Limit Theorem could be applied, I created hypotheses and decided on a significance level. The proportion of callbacks relative to race was calculated and used by subtracting the proportions to find the difference and adding the variance to calculate the standard deviation.  Once the z-score was calculated, a p-value was then calculated and comapred to the significance level defined in the first steps. Also, to get a good picture of how the distribution looked, I calculated a confidence interval to compare the difference of means. Based on the p-value and the range of the confidence level, it was decided that the null hypothesis was rejected supporting the claim that a black sounding name recieves less callbacks than a white sounding name. The statistics show that there is a correlation between callbacks relative to a race related name. This can be established with a confidence level of 95%. In other words, the likelyhood of recieving a callback if your name sounds black is decreased compared to a callback if your name sounded white. "
   ]
  }
 ],
 "metadata": {
  "kernelspec": {
   "display_name": "Python 3",
   "language": "python",
   "name": "python3"
  },
  "language_info": {
   "codemirror_mode": {
    "name": "ipython",
    "version": 3
   },
   "file_extension": ".py",
   "mimetype": "text/x-python",
   "name": "python",
   "nbconvert_exporter": "python",
   "pygments_lexer": "ipython3",
   "version": "3.7.3"
  }
 },
 "nbformat": 4,
 "nbformat_minor": 1
}

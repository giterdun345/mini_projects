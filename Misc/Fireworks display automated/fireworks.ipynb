{
 "cells": [
  {
   "cell_type": "code",
   "execution_count": 2,
   "metadata": {},
   "outputs": [],
   "source": [
    "# -*- coding: utf-8 -*-\n",
    "\"\"\"\n",
    "Created on Mon Dec 30 23:13:24 2019\n",
    "\n",
    "@author: marti\n",
    "\"\"\"\n",
    "#1.6 2.6sec\n",
    "#24-30 sec\n",
    "import pafy \n",
    "import vlc\n",
    "from time import sleep"
   ]
  },
  {
   "cell_type": "code",
   "execution_count": 10,
   "metadata": {},
   "outputs": [
    {
     "name": "stdout",
     "output_type": "stream",
     "text": [
      "GM600 Wind Up - 36 Shot Fireworks\n",
      "00:00:57\n"
     ]
    }
   ],
   "source": [
    "# Wind Up\n",
    "url = \"https://youtu.be/L8AayZn93wo\"\n",
    "video = pafy.new(url)\n",
    "print(video.title)\n",
    "print(video.duration)\n",
    "#best = video.getbest()\n",
    "#media = vlc.MediaPlayer(best.url)\n",
    "#media.play()\n",
    "# 57 seconds\n",
    "#sleep(56)\n",
    "# 25.25 inches \n",
    "first = 25.25"
   ]
  },
  {
   "cell_type": "code",
   "execution_count": 11,
   "metadata": {},
   "outputs": [
    {
     "name": "stdout",
     "output_type": "stream",
     "text": [
      "G 155 Grucci High performance Display\n",
      "00:01:19\n"
     ]
    }
   ],
   "source": [
    "# grucci \n",
    "url = \"https://youtu.be/4Espv7XtLMM\"\n",
    "video = pafy.new(url)\n",
    "print(video.title)\n",
    "print(video.duration)\n",
    "#best = video.getbest()\n",
    "##media = vlc.MediaPlayer(best.url)\n",
    "#media.play()\n",
    "# 73 seconds\n",
    "#sleep(74)\n",
    "# 40.5 inches\n",
    "second = 40.5"
   ]
  },
  {
   "cell_type": "code",
   "execution_count": 12,
   "metadata": {},
   "outputs": [
    {
     "name": "stdout",
     "output_type": "stream",
     "text": [
      "New Yorker Salute Finale - Phantom Fireworks\n",
      "00:01:10\n"
     ]
    }
   ],
   "source": [
    "# nysalute \n",
    "url = \"https://youtu.be/FlALBoTrDYM\"\n",
    "video = pafy.new(url)\n",
    "print(video.title)\n",
    "print(video.duration)\n",
    "#best = video.getbest()\n",
    "#media = vlc.MediaPlayer(best.url)\n",
    "#media.play()\n",
    "# 65 seconds\n",
    "#sleep(65)\n",
    "# 25 inches\n",
    "third = 25"
   ]
  },
  {
   "cell_type": "code",
   "execution_count": 13,
   "metadata": {},
   "outputs": [
    {
     "name": "stdout",
     "output_type": "stream",
     "text": [
      "G 030 Burst and Bloom\n",
      "00:00:49\n"
     ]
    }
   ],
   "source": [
    "# burstnbloom \n",
    "url = \"https://youtu.be/DKAuKIOxUIs\"\n",
    "video = pafy.new(url)\n",
    "print(video.title)\n",
    "print(video.duration)\n",
    "#best = video.getbest()\n",
    "#media = vlc.MediaPlayer(best.url)\n",
    "#media.play()\n",
    "# 42 seconds\n",
    "#sleep(50)\n",
    "# 20 inches\n",
    "fourth = 20"
   ]
  },
  {
   "cell_type": "code",
   "execution_count": 14,
   "metadata": {},
   "outputs": [
    {
     "name": "stdout",
     "output_type": "stream",
     "text": [
      "G 062 Strobe Spectacular\n",
      "00:00:53\n"
     ]
    }
   ],
   "source": [
    "# strobespect\n",
    "url = \"https://youtu.be/MQgScMz-3ec\"\n",
    "video = pafy.new(url)\n",
    "print(video.title)\n",
    "print(video.duration)\n",
    "##best = video.getbest()\n",
    "#media = vlc.MediaPlayer(best.url)\n",
    "#media.play()\n",
    "# 44 seconds\n",
    "#sleep(44)\n",
    "# 19 3/4 inches\n",
    "fifth = 19.75"
   ]
  },
  {
   "cell_type": "code",
   "execution_count": 15,
   "metadata": {},
   "outputs": [
    {
     "name": "stdout",
     "output_type": "stream",
     "text": [
      "G 136 Fortress of Fire\n",
      "00:00:48\n"
     ]
    }
   ],
   "source": [
    "# fortress\n",
    "url = \"https://youtu.be/kQIbZbYLpeo\"\n",
    "video = pafy.new(url)\n",
    "print(video.title)\n",
    "print(video.duration)\n",
    "#best = video.getbest()\n",
    "#media = vlc.MediaPlayer(best.url)\n",
    "#media.play()\n",
    "# 36 seconds\n",
    "#sleep(36)\n",
    "# 16 inches\n",
    "sixth = 16"
   ]
  },
  {
   "cell_type": "code",
   "execution_count": 16,
   "metadata": {},
   "outputs": [
    {
     "name": "stdout",
     "output_type": "stream",
     "text": [
      "G 296 PoPo Magnet\n",
      "00:01:06\n"
     ]
    }
   ],
   "source": [
    "# popo\n",
    "url = \"https://youtu.be/UgSk-KqhSc0\"\n",
    "video = pafy.new(url)\n",
    "print(video.title)\n",
    "print(video.duration)\n",
    "#best = video.getbest()\n",
    "#media = vlc.MediaPlayer(best.url)\n",
    "#media.play()\n",
    "# 66seconds\n",
    "#sleep(66)\n",
    "# 30 inches\n",
    "seventh = 30"
   ]
  },
  {
   "cell_type": "code",
   "execution_count": 17,
   "metadata": {},
   "outputs": [
    {
     "name": "stdout",
     "output_type": "stream",
     "text": [
      "G 073 Urban Warrior\n",
      "00:01:05\n"
     ]
    }
   ],
   "source": [
    "# urbanwarrior \n",
    "url = \"https://youtu.be/EMxIlFdlJBk\"\n",
    "video = pafy.new(url)\n",
    "print(video.title)\n",
    "print(video.duration)\n",
    "#best = video.getbest()\n",
    "#media = vlc.MediaPlayer(best.url)\n",
    "#media.play()\n",
    "# 66seconds\n",
    "#sleep(66)\n",
    "# 34 inches\n",
    "eighth = 34"
   ]
  },
  {
   "cell_type": "code",
   "execution_count": 18,
   "metadata": {},
   "outputs": [
    {
     "name": "stdout",
     "output_type": "stream",
     "text": [
      "G 159 Pyro Pulverizer\n",
      "00:01:09\n"
     ]
    }
   ],
   "source": [
    "# pyropulv \n",
    "url = \"https://youtu.be/ErCWvjIfolU\"\n",
    "video = pafy.new(url)\n",
    "print(video.title)\n",
    "print(video.duration)\n",
    "#best = video.getbest()\n",
    "#media = vlc.MediaPlayer(best.url)\n",
    "#media.play()\n",
    "# 69 seconds\n",
    "#sleep(68)\n",
    "# 26 3/4\n",
    "ninth = 26.75"
   ]
  },
  {
   "cell_type": "code",
   "execution_count": null,
   "metadata": {},
   "outputs": [],
   "source": [
    "#grand finale #########################################\n",
    "\n",
    "# palmpyro \n",
    "url = \"https://youtu.be/U4U_Yg6_P00\"\n",
    "video = pafy.new(url)\n",
    "print(video.title)\n",
    "print(video.duration)\n",
    "#best = video.getbest()\n",
    "#media = vlc.MediaPlayer(best.url)\n",
    "#media.play()\n",
    "# 42 seconds\n",
    "#sleep(41)\n",
    "# 10 feet short"
   ]
  },
  {
   "cell_type": "code",
   "execution_count": null,
   "metadata": {},
   "outputs": [],
   "source": [
    "# johnnybgood\n",
    "url = \"https://youtu.be/dKs69ectI7Q\"\n",
    "video = pafy.new(url)\n",
    "print(video.title)\n",
    "print(video.duration)\n",
    "#best = video.getbest()\n",
    "#media = vlc.MediaPlayer(best.url)\n",
    "#media.play()\n",
    "## 25seconds\n",
    "#sleep(25)\n",
    "# 1 foot short "
   ]
  },
  {
   "cell_type": "code",
   "execution_count": null,
   "metadata": {},
   "outputs": [],
   "source": [
    "# godfire\n",
    "url = \"https://youtu.be/VcQwNn8tn7U\"\n",
    "video = pafy.new(url)\n",
    "print(video.title)\n",
    "print(video.duration)\n",
    "#best = video.getbest()\n",
    "#media = vlc.MediaPlayer(best.url)\n",
    "#media.play()\n",
    "# 24seconds\n",
    "#sleep(23)\n",
    "# 1 foot short"
   ]
  },
  {
   "cell_type": "code",
   "execution_count": null,
   "metadata": {},
   "outputs": [],
   "source": [
    "#voodoo \n",
    "url = \"https://youtu.be/IudJGeH-TLs\"\n",
    "video = pafy.new(url)\n",
    "print(video.title)\n",
    "print(video.duration)\n",
    "#best = video.getbest()\n",
    "#media = vlc.MediaPlayer(best.url)\n",
    "#media.play()\n",
    "# 37seconds\n",
    "#sleep(35)"
   ]
  },
  {
   "cell_type": "code",
   "execution_count": null,
   "metadata": {},
   "outputs": [],
   "source": [
    "(1.6 + 2.6) / 2"
   ]
  },
  {
   "cell_type": "code",
   "execution_count": null,
   "metadata": {},
   "outputs": [],
   "source": [
    "(24 + 30) / 2"
   ]
  },
  {
   "cell_type": "code",
   "execution_count": 4,
   "metadata": {},
   "outputs": [
    {
     "data": {
      "text/plain": [
       "2.2222222222222223"
      ]
     },
     "execution_count": 4,
     "metadata": {},
     "output_type": "execute_result"
    }
   ],
   "source": [
    "60 / 27"
   ]
  },
  {
   "cell_type": "code",
   "execution_count": 8,
   "metadata": {},
   "outputs": [
    {
     "data": {
      "text/plain": [
       "10.4"
      ]
     },
     "execution_count": 8,
     "metadata": {},
     "output_type": "execute_result"
    }
   ],
   "source": [
    "4 * 2.6"
   ]
  },
  {
   "cell_type": "code",
   "execution_count": 19,
   "metadata": {},
   "outputs": [
    {
     "data": {
      "text/plain": [
       "237.25"
      ]
     },
     "execution_count": 19,
     "metadata": {},
     "output_type": "execute_result"
    }
   ],
   "source": [
    "first + second + third + fourth + fifth + sixth + seventh + eighth + ninth"
   ]
  },
  {
   "cell_type": "code",
   "execution_count": 20,
   "metadata": {},
   "outputs": [
    {
     "data": {
      "text/plain": [
       "19.770833333333332"
      ]
     },
     "execution_count": 20,
     "metadata": {},
     "output_type": "execute_result"
    }
   ],
   "source": [
    "237.25 / 12"
   ]
  },
  {
   "cell_type": "code",
   "execution_count": null,
   "metadata": {},
   "outputs": [],
   "source": []
  }
 ],
 "metadata": {
  "kernelspec": {
   "display_name": "Python 3",
   "language": "python",
   "name": "python3"
  },
  "language_info": {
   "codemirror_mode": {
    "name": "ipython",
    "version": 3
   },
   "file_extension": ".py",
   "mimetype": "text/x-python",
   "name": "python",
   "nbconvert_exporter": "python",
   "pygments_lexer": "ipython3",
   "version": "3.7.3"
  }
 },
 "nbformat": 4,
 "nbformat_minor": 2
}

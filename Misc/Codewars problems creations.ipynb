{
 "cells": [
  {
   "cell_type": "code",
   "execution_count": 92,
   "metadata": {},
   "outputs": [],
   "source": [
    "text = 'The cat sat on the mat.'\n",
    "\n",
    "def encrypt(text, number):\n",
    "    encrypted = []\n",
    "    for letter in text:\n",
    "        ascy = ord(letter)\n",
    "        if ascy == 32:\n",
    "            encrypted.append(' ')\n",
    "        else:\n",
    "            encrypted.append(chr(ascy + number))\n",
    "    return ''.join(encrypted)\n",
    "\n",
    "def decrypt(coded, number):\n",
    "    decrypted = []\n",
    "    for letter in coded:\n",
    "        ascy = ord(letter) \n",
    "        if ascy == 32:\n",
    "            decrypted.append(' ')\n",
    "        else:\n",
    "            decrypted.append(chr(ascy- number))\n",
    "    return ''.join(decrypted)\n",
    "\n",
    "        \n",
    "\n",
    "    \n",
    "coded = encrypt(text, 5)\n",
    "   \n",
    "decoded = decrypt(coded, 5)\n",
    "       "
   ]
  },
  {
   "cell_type": "code",
   "execution_count": 138,
   "metadata": {},
   "outputs": [],
   "source": [
    "arr = [2, 9, 3, 4, 4]\n",
    "def two_sum(number, arr):\n",
    "    results = []\n",
    "    for index, element in enumerate(arr):\n",
    "        if  number - element in arr:\n",
    "            results.append((arr.index(number - element), index))\n",
    "    if len(results) >= 1:\n",
    "        return results\n",
    "    else:\n",
    "        return -1\n",
    "\n",
    "\n",
    "    "
   ]
  },
  {
   "cell_type": "code",
   "execution_count": 196,
   "metadata": {},
   "outputs": [],
   "source": [
    "xbrackets = \"((([[[[]]]]))))\"\n",
    "brackets =  \"{([{()}])}\""
   ]
  },
  {
   "cell_type": "code",
   "execution_count": 199,
   "metadata": {},
   "outputs": [
    {
     "name": "stdout",
     "output_type": "stream",
     "text": [
      "( )\n",
      "( )\n",
      "( )\n",
      "[ )\n",
      "[ ]\n",
      "[ ]\n",
      "[ ]\n",
      "False\n"
     ]
    }
   ],
   "source": [
    "def balanced(brackets):\n",
    "    length = len(brackets)\n",
    "    count = 0\n",
    "    half = int(length / 2)\n",
    "    lower = brackets[:half]\n",
    "    upper = brackets[half:]\n",
    "    for i, lower_bracket in enumerate(lower):\n",
    "        upper_bracket = upper[(i + 1) * -1]\n",
    "        \n",
    "#         print(lower_bracket, upper_bracket)\n",
    "        \n",
    "        if ord(lower_bracket) == 40:\n",
    "            if ord(lower_bracket) + 1 == ord(upper_bracket):\n",
    "                count += 1\n",
    "            else:\n",
    "                continue\n",
    "        else:\n",
    "            if ord(lower_bracket) + 2 == ord(upper_bracket):\n",
    "                count += 1\n",
    "            else: \n",
    "                continue\n",
    "\n",
    "    if count == (length/2):\n",
    "        return True\n",
    "    else:\n",
    "        return False\n",
    "\n",
    "            \n",
    "        \n",
    "\n",
    "    \n",
    "print(balanced(xbrackets))"
   ]
  },
  {
   "cell_type": "code",
   "execution_count": null,
   "metadata": {},
   "outputs": [],
   "source": [
    "# towers of hanoi\n"
   ]
  },
  {
   "cell_type": "code",
   "execution_count": null,
   "metadata": {},
   "outputs": [],
   "source": []
  }
 ],
 "metadata": {
  "kernelspec": {
   "display_name": "Python 3",
   "language": "python",
   "name": "python3"
  },
  "language_info": {
   "codemirror_mode": {
    "name": "ipython",
    "version": 3
   },
   "file_extension": ".py",
   "mimetype": "text/x-python",
   "name": "python",
   "nbconvert_exporter": "python",
   "pygments_lexer": "ipython3",
   "version": "3.7.3"
  }
 },
 "nbformat": 4,
 "nbformat_minor": 2
}

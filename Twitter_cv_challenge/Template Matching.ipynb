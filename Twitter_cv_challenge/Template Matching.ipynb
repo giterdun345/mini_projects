{
 "cells": [
  {
   "cell_type": "code",
   "execution_count": 1,
   "metadata": {},
   "outputs": [],
   "source": [
    "# Python program to illustrate  \n",
    "# template matching \n",
    "import cv2 \n",
    "import numpy as np \n",
    "import glob"
   ]
  },
  {
   "cell_type": "code",
   "execution_count": 2,
   "metadata": {},
   "outputs": [],
   "source": [
    "# read-in main images in a way for iterating during use \n",
    "images_grabbed = []\n",
    "for img in glob.glob('*.png'):\n",
    "    images_grabbed.append(img)\n",
    "    \n",
    "# identify template to be used and remove from images_grabbed array    \n",
    "template = images_grabbed[-1]\n",
    "images_grabbed.remove('template.png')\n",
    "# read in template\n",
    "template = cv2.imread(template, 0)"
   ]
  },
  {
   "cell_type": "code",
   "execution_count": 3,
   "metadata": {},
   "outputs": [
    {
     "name": "stdout",
     "output_type": "stream",
     "text": [
      "7 boxes found\n",
      "[[25, 1092, 91, 1314], [229, 1092, 295, 1314], [395, 1092, 461, 1314], [599, 1092, 665, 1314], [841, 1092, 907, 1314], [1007, 1092, 1073, 1314], [1211, 1092, 1277, 1314]]\n",
      "9 boxes found\n",
      "[[117, 1056, 183, 1278], [321, 1056, 387, 1278], [499, 1056, 565, 1278], [629, 1056, 695, 1278], [833, 1056, 899, 1278], [1075, 1056, 1141, 1278], [1279, 1056, 1345, 1278], [1483, 1056, 1549, 1278], [1687, 1056, 1753, 1278]]\n",
      "8 boxes found\n",
      "[[93, 1060, 159, 1282], [259, 1060, 325, 1282], [463, 1060, 529, 1282], [629, 1060, 695, 1282], [833, 1060, 899, 1282], [1037, 1060, 1103, 1282], [1243, 1060, 1309, 1282], [1409, 1060, 1475, 1282]]\n",
      "7 boxes found\n",
      "[[127, 1090, 193, 1312], [369, 1090, 435, 1312], [611, 1090, 677, 1312], [777, 1090, 843, 1312], [981, 1090, 1047, 1312], [1185, 1090, 1251, 1312], [1389, 1090, 1455, 1312]]\n",
      "8 boxes found\n",
      "[[69, 1050, 135, 1272], [275, 1050, 341, 1272], [443, 1050, 509, 1272], [685, 1050, 751, 1272], [891, 1050, 957, 1272], [1059, 1050, 1125, 1272], [1265, 1050, 1331, 1272], [1507, 1050, 1573, 1272]]\n"
     ]
    }
   ],
   "source": [
    "# iterate over main images to match with template \n",
    "for image in images_grabbed:\n",
    "    raw_solution = []\n",
    "    solution = []\n",
    "    count = 0\n",
    "    # read main images\n",
    "    img_main = cv2.imread(image)\n",
    "    # change to grey scale for easier pickup\n",
    "    img_gray = cv2.cvtColor(img_main, cv2.COLOR_BGR2GRAY) \n",
    "    # capture widt and height of template for use in rectangle and min/max values\n",
    "    # [::-1] used to reverse into format (w,h) (x,y) (row,column)\n",
    "    width, height = template.shape[::-1] \n",
    "    # match operations \n",
    "    results = cv2.matchTemplate(img_gray, template, cv2.TM_CCOEFF_NORMED)\n",
    "    # threshold chosen at .94 after iterating over .9, .93\n",
    "    # 0.94 holds the lowest number of values and therefore the most precision\n",
    "    threshold = 0.94\n",
    "    # location where the threshold is met to identify brightest point\n",
    "    loc = np.where( results >= threshold)  \n",
    "    # adding points from location to calculate the min/max values for the solution\n",
    "      # zipped locations for drawing rectangle around region\n",
    "    # [::-1] used to reverse into format (w,h) (x,y) (row,column)\n",
    "    \"\"\"To inspect images with rectangles identifying the template found or \n",
    "    to inspect the results of matchTemplate operations uncomment the following lines\n",
    "    To close out the picture press any button on the computer, do not exit out from cross\"\"\"\n",
    "    for point in zip(*loc[::-1]): \n",
    "        cv2.rectangle(img_main, point, (point[0] + width, point[1] + height), (0,255,255), 2) \n",
    "    # inspect image \n",
    "    cv2.imshow('Detected',img_main) \n",
    "    cv2.waitKey(0)\n",
    "    cv2.destroyAllWindows()\n",
    "    # inspect results\n",
    "    cv2.imshow('Results', results) \n",
    "    cv2.waitKey()\n",
    "    cv2.destroyAllWindows()\n",
    "    # unorganized format of x and y values \n",
    "    raw_solution.append([set(loc[1]), set(loc[0])])\n",
    "    # enter in solution; reorganize the format and make calculations for entire bounding box \n",
    "    for arr in raw_solution:\n",
    "        xmin = np.mean(np.array(list(arr[0])), dtype = 'int32')\n",
    "        xmax = xmin + width\n",
    "        y_values = sorted(list(arr[1]))\n",
    "       # print(y_values)\n",
    "        for index in range(len(y_values)):\n",
    "            count = count + 1\n",
    "            ymin = y_values[index]\n",
    "            ymax = y_values[index] + height\n",
    "            solution.append([ymin, xmin, ymax, xmax])\n",
    "    # print solutions to challenge\n",
    "    print(f\"{count} boxes found\")\n",
    "    print(solution)\n",
    "\n"
   ]
  },
  {
   "cell_type": "code",
   "execution_count": null,
   "metadata": {},
   "outputs": [],
   "source": []
  }
 ],
 "metadata": {
  "kernelspec": {
   "display_name": "Python 3",
   "language": "python",
   "name": "python3"
  },
  "language_info": {
   "codemirror_mode": {
    "name": "ipython",
    "version": 3
   },
   "file_extension": ".py",
   "mimetype": "text/x-python",
   "name": "python",
   "nbconvert_exporter": "python",
   "pygments_lexer": "ipython3",
   "version": "3.7.4"
  }
 },
 "nbformat": 4,
 "nbformat_minor": 2
}

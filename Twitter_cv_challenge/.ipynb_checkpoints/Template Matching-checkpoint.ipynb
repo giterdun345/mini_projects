{
 "cells": [
  {
   "cell_type": "code",
   "execution_count": 2,
   "metadata": {},
   "outputs": [],
   "source": [
    "# Python program to illustrate  \n",
    "# template matching \n",
    "import cv2 \n",
    "import numpy as np \n",
    "import glob"
   ]
  },
  {
   "cell_type": "code",
   "execution_count": 3,
   "metadata": {},
   "outputs": [],
   "source": [
    "# read-in main images in a way for iterating during use \n",
    "images_grabbed = []\n",
    "for img in glob.glob('*.png'):\n",
    "    images_grabbed.append(img)\n",
    "    \n",
    "# identify template to be used and remove from images_grabbed array    \n",
    "template = images_grabbed[-1]\n",
    "images_grabbed.remove('template.png')\n",
    "# read in template\n",
    "template = cv2.imread(template, 0)"
   ]
  },
  {
   "cell_type": "code",
   "execution_count": null,
   "metadata": {},
   "outputs": [],
   "source": [
    "# iterate over main images to match with template \n",
    "for image in images_grabbed:\n",
    "    raw_solution = []\n",
    "    solution = []\n",
    "    count = 0\n",
    "    # read main images\n",
    "    img_main = cv2.imread(image)\n",
    "    # change to grey scale for easier pickup\n",
    "    img_gray = cv2.cvtColor(img_main, cv2.COLOR_BGR2GRAY) \n",
    "    # capture widt and height of template for use in rectangle and min/max values\n",
    "    # [::-1] used to reverse into format (w,h) (x,y) (row,column)\n",
    "    width, height = template.shape[::-1] \n",
    "    # match operations \n",
    "    results = cv2.matchTemplate(img_gray, template, cv2.TM_CCOEFF_NORMED)\n",
    "    # threshold chosen at .94 after iterating over .9, .93\n",
    "    # 0.94 holds the lowest number of values and therefore the most precision\n",
    "    threshold = 0.94\n",
    "    # location where the threshold is met to identify brightest point\n",
    "    loc = np.where( results >= threshold)  \n",
    "    # adding points from location to calculate the min/max values for the solution\n",
    "      # zipped locations for drawing rectangle around region\n",
    "    # [::-1] used to reverse into format (w,h) (x,y) (row,column)\n",
    "    \"\"\"To inspect images with rectangles identifying the template found or \n",
    "    to inspect the results of matchTemplate operations uncomment the following lines\n",
    "    To close out the picture press any button on the computer, do not exit out from cross\"\"\"\n",
    "    for point in zip(*loc[::-1]): \n",
    "        cv2.rectangle(img_main, point, (point[0] + width, point[1] + height), (0,255,255), 2) \n",
    "    # inspect image \n",
    "    cv2.imshow('Detected',img_main) \n",
    "    cv2.waitKey(0)\n",
    "    cv2.destroyAllWindows()\n",
    "    # inspect results\n",
    "    cv2.imshow('Results', results) \n",
    "    cv2.waitKey()\n",
    "    cv2.destroyAllWindows()\n",
    "    # unorganized format of x and y values \n",
    "    raw_solution.append([set(loc[1]), set(loc[0])])\n",
    "    # enter in solution; reorganize the format and make calculations for entire bounding box \n",
    "    for arr in raw_solution:\n",
    "        xmin = np.mean(np.array(list(arr[0])), dtype = 'int32')\n",
    "        xmax = xmin + width\n",
    "        y_values = sorted(list(arr[1]))\n",
    "       # print(y_values)\n",
    "        for index in range(len(y_values)):\n",
    "            count = count + 1\n",
    "            ymin = y_values[index]\n",
    "            ymax = y_values[index] + height\n",
    "            solution.append([ymin, xmin, ymax, xmax])\n",
    "    # print solutions to challenge\n",
    "    print(f\"{count} boxes found\")\n",
    "    print(solution)\n",
    "\n"
   ]
  },
  {
   "cell_type": "code",
   "execution_count": null,
   "metadata": {},
   "outputs": [],
   "source": []
  }
 ],
 "metadata": {
  "kernelspec": {
   "display_name": "Python 3",
   "language": "python",
   "name": "python3"
  },
  "language_info": {
   "codemirror_mode": {
    "name": "ipython",
    "version": 3
   },
   "file_extension": ".py",
   "mimetype": "text/x-python",
   "name": "python",
   "nbconvert_exporter": "python",
   "pygments_lexer": "ipython3",
   "version": "3.7.4"
  }
 },
 "nbformat": 4,
 "nbformat_minor": 2
}
